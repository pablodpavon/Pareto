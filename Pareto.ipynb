{
 "cells": [
  {
   "cell_type": "code",
   "execution_count": null,
   "id": "2543b72c",
   "metadata": {},
   "outputs": [],
   "source": [
    "import pandas as pd\n",
    "import numpy as np\n",
    "import matplotlib.pyplot as plt\n",
    "%matplotlib inline\n",
    "\n",
    "#Automcompletar rápido\n",
    "%config IPCompleter.greedy=True\n",
    "\n",
    "#Display 6 registros\n",
    "pd.options.display.min_rows = 6"
   ]
  },
  {
   "cell_type": "code",
   "execution_count": 1,
   "id": "873b0b6a",
   "metadata": {},
   "outputs": [],
   "source": [
    "def pareto_function(variable, salida = 'Table'):\n",
    "    #Ordenar en descendente y pasar a dataframe\n",
    "    pareto = variable.sort_values(ascending = False).to_frame()\n",
    "    #Cambiar el nombre a la variable\n",
    "    pareto.columns = ['Value']\n",
    "    #Crear la posición\n",
    "    pareto['Position'] = np.arange(start = 1, stop = len(pareto) + 1)\n",
    "    pareto['Position_Porc'] = pareto.Position.transform(lambda x: x / pareto.shape[0] * 100)\n",
    "    #Crear el acumulado\n",
    "    pareto['Acum'] = pareto['Value'].cumsum()\n",
    "    max_pareto_acum = max(pareto.Acum)\n",
    "    pareto['Acum_Porc'] = pareto.Acum.transform(lambda x: x / max_pareto_acum * 100)\n",
    "    #Simplificar\n",
    "    pareto = pareto[['Position_Porc','Acum_Porc']]\n",
    "    \n",
    "    #Devolver la salida\n",
    "    if salida == 'Table':\n",
    "        f, ax = plt.subplots(figsize = (16,8))\n",
    "        ax.plot(pareto.Posicion_Porc, pareto.Acum_Porc)\n",
    "        ax.plot(pareto.Posicion_Porc, pareto.Posicion_Porc)\n",
    "        ax.tick_params(axis='x', labelsize=12, labelrotation=90)\n",
    "        return(ax)\n",
    "    else:\n",
    "        return(pareto)"
   ]
  },
  {
   "cell_type": "code",
   "execution_count": null,
   "id": "8dd43b64",
   "metadata": {},
   "outputs": [],
   "source": [
    "agregado_financiacion = df.groupby('Country')[['Funded Amount']].sum()\n",
    "agregado_financiacion"
   ]
  },
  {
   "cell_type": "code",
   "execution_count": null,
   "id": "b3ef4f4f",
   "metadata": {},
   "outputs": [],
   "source": [
    "#Llamamos la función para que nos devuelva la tabla con el Pareto\n",
    "pareto_ds4b(agregado_financiacion['Funded Amount'])"
   ]
  }
 ],
 "metadata": {
  "kernelspec": {
   "display_name": "Python 3 (ipykernel)",
   "language": "python",
   "name": "python3"
  },
  "language_info": {
   "codemirror_mode": {
    "name": "ipython",
    "version": 3
   },
   "file_extension": ".py",
   "mimetype": "text/x-python",
   "name": "python",
   "nbconvert_exporter": "python",
   "pygments_lexer": "ipython3",
   "version": "3.9.12"
  },
  "toc": {
   "base_numbering": 1,
   "nav_menu": {},
   "number_sections": true,
   "sideBar": true,
   "skip_h1_title": false,
   "title_cell": "Table of Contents",
   "title_sidebar": "Contents",
   "toc_cell": false,
   "toc_position": {},
   "toc_section_display": true,
   "toc_window_display": false
  },
  "varInspector": {
   "cols": {
    "lenName": 16,
    "lenType": 16,
    "lenVar": 40
   },
   "kernels_config": {
    "python": {
     "delete_cmd_postfix": "",
     "delete_cmd_prefix": "del ",
     "library": "var_list.py",
     "varRefreshCmd": "print(var_dic_list())"
    },
    "r": {
     "delete_cmd_postfix": ") ",
     "delete_cmd_prefix": "rm(",
     "library": "var_list.r",
     "varRefreshCmd": "cat(var_dic_list()) "
    }
   },
   "types_to_exclude": [
    "module",
    "function",
    "builtin_function_or_method",
    "instance",
    "_Feature"
   ],
   "window_display": false
  }
 },
 "nbformat": 4,
 "nbformat_minor": 5
}
